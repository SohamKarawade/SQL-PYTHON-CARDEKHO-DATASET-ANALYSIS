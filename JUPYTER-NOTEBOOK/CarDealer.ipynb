{
 "cells": [
  {
   "cell_type": "code",
   "execution_count": 91,
   "id": "dc4c13bd-986b-4620-b9c6-4832b6f5ab7b",
   "metadata": {},
   "outputs": [],
   "source": [
    "pd.set_option('display.float_format', '{:,.2f}'.format)"
   ]
  },
  {
   "cell_type": "code",
   "execution_count": 92,
   "id": "0ed57166-694a-4c23-99bb-380eea93e1a9",
   "metadata": {},
   "outputs": [],
   "source": [
    "import pandas as pd\n",
    "import sqlite3\n",
    "from sqlalchemy import create_engine"
   ]
  },
  {
   "cell_type": "code",
   "execution_count": 93,
   "id": "7dd6a768-4731-4fba-baf6-e8a2d537c7d6",
   "metadata": {},
   "outputs": [],
   "source": [
    "# Load dataset into a DataFrame\n",
    "df = pd.read_csv(r'C:\\Users\\User\\Desktop\\Projects\\SQL\\Car Dealer\\Dataset\\CAR DETAILS FROM CAR DEKHO.csv')"
   ]
  },
  {
   "cell_type": "code",
   "execution_count": 94,
   "id": "5391d72d-27ac-46d9-b7e1-145edf5c37e3",
   "metadata": {},
   "outputs": [],
   "source": [
    "# Replace with your PostgreSQL credentials\n",
    "user = 'postgres'\n",
    "password = ' ' \n",
    "host = 'localhost'  \n",
    "port = '5432'       \n",
    "database = 'cardealer_db'\n",
    "\n",
    "# Create connection string\n",
    "engine = create_engine(f'postgresql+psycopg2://{user}:{password}@{host}:{port}/{database}')\n"
   ]
  },
  {
   "cell_type": "code",
   "execution_count": 95,
   "id": "b3cf1b41-a528-4449-aba3-a5b055de0b9a",
   "metadata": {},
   "outputs": [
    {
     "name": "stdout",
     "output_type": "stream",
     "text": [
      "       fuel\n",
      "0       LPG\n",
      "1    Diesel\n",
      "2    Petrol\n",
      "3  Electric\n",
      "4       CNG\n"
     ]
    }
   ],
   "source": [
    "# 1.List all unique fuel types available in the dataset\n",
    "query = \"\"\"\n",
    "SELECT DISTINCT fuel FROM cardealer;\n",
    "\"\"\"\n",
    "df = pd.read_sql(query, engine)\n",
    "print(df)"
   ]
  },
  {
   "cell_type": "code",
   "execution_count": 96,
   "id": "135e4fd1-dce4-4851-b7d6-0b5dc48c7be8",
   "metadata": {},
   "outputs": [
    {
     "name": "stdout",
     "output_type": "stream",
     "text": [
      "   count\n",
      "0   4340\n"
     ]
    }
   ],
   "source": [
    "# 2.Count the total number of cars in the dataset.\n",
    "query = \"\"\"\n",
    "SELECT COUNT(name) FROM cardealer;\n",
    "\"\"\"\n",
    "df = pd.read_sql(query, engine)\n",
    "print(df)"
   ]
  },
  {
   "cell_type": "code",
   "execution_count": 97,
   "id": "363254c6-e001-4910-846f-77340c83483b",
   "metadata": {},
   "outputs": [
    {
     "name": "stdout",
     "output_type": "stream",
     "text": [
      "                                name  year  sellingprice  kmdriven    fuel  \\\n",
      "0                      Maruti 800 AC  2007         60000     70000  Petrol   \n",
      "1           Maruti Wagon R LXI Minor  2007        135000     50000  Petrol   \n",
      "2             Datsun RediGO T Option  2017        250000     46000  Petrol   \n",
      "3               Maruti Alto LX BSIII  2007        140000    125000  Petrol   \n",
      "4           Tata Indigo Grand Petrol  2014        240000     60000  Petrol   \n",
      "...                              ...   ...           ...       ...     ...   \n",
      "1718    Tata Manza Aura Safire BS IV  2010        160000     60000  Petrol   \n",
      "1719  Tata Indica Vista Aqua 1.4 TDI  2010        150000    130000  Diesel   \n",
      "1720                 Maruti Ritz VDi  2012        225000     90000  Diesel   \n",
      "1721             Maruti 800 AC BSIII  2009        110000     83000  Petrol   \n",
      "1722                Renault KWID RXT  2016        225000     40000  Petrol   \n",
      "\n",
      "      sellertype transmission         owner  \n",
      "0     Individual       Manual   First Owner  \n",
      "1     Individual       Manual   First Owner  \n",
      "2     Individual       Manual   First Owner  \n",
      "3     Individual       Manual   First Owner  \n",
      "4     Individual       Manual  Second Owner  \n",
      "...          ...          ...           ...  \n",
      "1718  Individual       Manual  Second Owner  \n",
      "1719  Individual       Manual  Second Owner  \n",
      "1720  Individual       Manual  Second Owner  \n",
      "1721  Individual       Manual  Second Owner  \n",
      "1722  Individual       Manual   First Owner  \n",
      "\n",
      "[1723 rows x 8 columns]\n"
     ]
    }
   ],
   "source": [
    "# 3.Find all cars with a selling price less than ₹3 lakhs.\n",
    "query = \"\"\"\n",
    "SELECT * FROM cardealer \n",
    "WHERE sellingprice < 300000;\n",
    "\"\"\"\n",
    "df = pd.read_sql(query, engine)\n",
    "print(df)"
   ]
  },
  {
   "cell_type": "code",
   "execution_count": 98,
   "id": "3d7af643-0fe8-4e67-95f5-ad8ee7a93f8f",
   "metadata": {},
   "outputs": [
    {
     "name": "stdout",
     "output_type": "stream",
     "text": [
      "  transmission  count\n",
      "0       Manual   3892\n",
      "1    Automatic    448\n"
     ]
    }
   ],
   "source": [
    "# 4.Get the number of cars per transmission type.\n",
    "query = \"\"\"\n",
    "SELECT transmission, \n",
    "COUNT(name) FROM cardealer  \n",
    "GROUP BY transmission;\n",
    "\"\"\"\n",
    "df = pd.read_sql(query, engine)\n",
    "print(df)"
   ]
  },
  {
   "cell_type": "code",
   "execution_count": 99,
   "id": "d505b24f-ca0d-41c5-802d-664e85f4c1fd",
   "metadata": {},
   "outputs": [
    {
     "name": "stdout",
     "output_type": "stream",
     "text": [
      "                 name  year  sellingprice  kmdriven    fuel  sellertype  \\\n",
      "0  Maruti 800 AC BSII  1992         50000    100000  Petrol  Individual   \n",
      "\n",
      "  transmission                 owner  \n",
      "0       Manual  Fourth & Above Owner  \n"
     ]
    }
   ],
   "source": [
    "# 5.Find the oldest car in the dataset.\n",
    "query = \"\"\"\n",
    "SELECT * FROM cardealer \n",
    "ORDER BY year LIMIT 1;\n",
    "\"\"\"\n",
    "df = pd.read_sql(query, engine)\n",
    "print(df)"
   ]
  },
  {
   "cell_type": "code",
   "execution_count": 100,
   "id": "1d5aa58a-e5f2-4017-8c43-074c41ae2e88",
   "metadata": {},
   "outputs": [
    {
     "name": "stdout",
     "output_type": "stream",
     "text": [
      "       fuel        avg\n",
      "0       LPG 167,826.04\n",
      "1    Diesel 669,094.25\n",
      "2    Petrol 344,840.14\n",
      "3  Electric 310,000.00\n",
      "4       CNG 277,174.92\n"
     ]
    }
   ],
   "source": [
    "# 6.Show the average selling price of cars for each fuel type.\n",
    "query = \"\"\"\n",
    "SELECT fuel, \n",
    "AVG(sellingprice) FROM cardealer \n",
    "GROUP BY fuel;\n",
    "\"\"\"\n",
    "df = pd.read_sql(query, engine)\n",
    "print(df)"
   ]
  },
  {
   "cell_type": "code",
   "execution_count": 101,
   "id": "7e0932dc-4615-4fc8-9463-b1d76da735e7",
   "metadata": {},
   "outputs": [
    {
     "name": "stdout",
     "output_type": "stream",
     "text": [
      "                                             name  year  sellingprice  \\\n",
      "0                   BMW 5 Series 520d Luxury Line  2018       4800000   \n",
      "1                               Audi A5 Sportback  2020       4700000   \n",
      "2                 Volvo XC 90 D5 Inscription BSIV  2017       4500000   \n",
      "3  Mercedes-Benz GL-Class 350 CDI Blue Efficiency  2014       4400000   \n",
      "4  Mercedes-Benz GL-Class 350 CDI Blue Efficiency  2014       4400000   \n",
      "\n",
      "   kmdriven    fuel  sellertype transmission         owner  \n",
      "0      9422  Diesel  Individual    Automatic   First Owner  \n",
      "1      1500  Diesel  Individual    Automatic   First Owner  \n",
      "2     80000  Diesel  Individual    Automatic   First Owner  \n",
      "3    100000  Diesel  Individual    Automatic  Second Owner  \n",
      "4    100000  Diesel  Individual    Automatic  Second Owner  \n"
     ]
    }
   ],
   "source": [
    "# 7.Find the top 5 most expensive cars listed by individual sellers.\n",
    "query = \"\"\"\n",
    "SELECT * FROM cardealer \n",
    "WHERE sellertype ='Individual' \n",
    "ORDER BY sellingprice DESC LIMIT 5;\n",
    "\"\"\"\n",
    "df = pd.read_sql(query, engine)\n",
    "print(df)"
   ]
  },
  {
   "cell_type": "code",
   "execution_count": 102,
   "id": "9d4c6bd6-c969-4dbd-858f-f526485238ef",
   "metadata": {},
   "outputs": [
    {
     "name": "stdout",
     "output_type": "stream",
     "text": [
      "    year  count\n",
      "0   2017    466\n",
      "1   2016    357\n",
      "2   1999     10\n",
      "3   2012    415\n",
      "4   2009    193\n",
      "5   2018    366\n",
      "6   2005     85\n",
      "7   1995      1\n",
      "8   2013    386\n",
      "9   1992      1\n",
      "10  2003     23\n",
      "11  2008    145\n",
      "12  2015    421\n",
      "13  1998     12\n",
      "14  2010    234\n",
      "15  2014    367\n",
      "16  2019    195\n",
      "17  2007    134\n",
      "18  2002     21\n",
      "19  1997      3\n",
      "20  2004     42\n",
      "21  1996      2\n",
      "22  2006    110\n",
      "23  2000     12\n",
      "24  2020     48\n",
      "25  2011    271\n",
      "26  2001     20\n"
     ]
    }
   ],
   "source": [
    "# 8.Get the number of cars registered each year.\n",
    "query = \"\"\"\n",
    "SELECT year, \n",
    "COUNT(name) FROM cardealer \n",
    "GROUP BY year;\n",
    "\"\"\"\n",
    "df = pd.read_sql(query, engine)\n",
    "print(df)"
   ]
  },
  {
   "cell_type": "code",
   "execution_count": 103,
   "id": "f8b7b7fa-ca0f-4230-8ddb-d658f4496423",
   "metadata": {},
   "outputs": [
    {
     "name": "stdout",
     "output_type": "stream",
     "text": [
      "         sellertype        sum       avg\n",
      "0  Trustmark Dealer    3998626 39,202.22\n",
      "1        Individual  230867552 71,167.56\n",
      "2            Dealer   52510296 52,827.26\n"
     ]
    }
   ],
   "source": [
    "# 9.Show the total and average km driven by seller type.\n",
    "query = \"\"\"\n",
    "SELECT sellertype, \n",
    "SUM(kmdriven), \n",
    "AVG(kmdriven) FROM cardealer \n",
    "GROUP BY sellertype;\n",
    "\"\"\"\n",
    "df = pd.read_sql(query, engine)\n",
    "print(df)"
   ]
  },
  {
   "cell_type": "code",
   "execution_count": 104,
   "id": "91c040d3-f33a-45c2-b68b-33e228135dbb",
   "metadata": {},
   "outputs": [
    {
     "name": "stdout",
     "output_type": "stream",
     "text": [
      "   count\n",
      "0     19\n"
     ]
    }
   ],
   "source": [
    "# 10.Find how many automatic cars are being sold by Trustmark dealers.\n",
    "query = \"\"\"\n",
    "SELECT COUNT(*) FROM cardealer \n",
    "WHERE transmission = 'Automatic' AND sellertype = 'Trustmark Dealer';\n",
    "\"\"\"\n",
    "df = pd.read_sql(query, engine)\n",
    "print(df)"
   ]
  },
  {
   "cell_type": "code",
   "execution_count": 105,
   "id": "218a363e-5c1a-4c9a-9778-1fbd247a0104",
   "metadata": {},
   "outputs": [
    {
     "name": "stdout",
     "output_type": "stream",
     "text": [
      "      brand  total_listings\n",
      "0    Maruti            1280\n",
      "1   Hyundai             821\n",
      "2  Mahindra             365\n"
     ]
    }
   ],
   "source": [
    "# 11.Get the top 3 car brands (based on name) with the most listings.\n",
    "query = \"\"\"\n",
    "SELECT SPLIT_PART(name, ' ', 1) AS brand,\n",
    "COUNT(*) AS total_listings FROM cardealer \n",
    "GROUP BY brand \n",
    "ORDER BY total_listings DESC LIMIT 3;\n",
    "\"\"\"\n",
    "df = pd.read_sql(query, engine)\n",
    "print(df)"
   ]
  },
  {
   "cell_type": "code",
   "execution_count": 106,
   "id": "e8dad75d-db2e-43cf-aecb-34ecb5f19b9d",
   "metadata": {},
   "outputs": [
    {
     "name": "stdout",
     "output_type": "stream",
     "text": [
      "    year          avg\n",
      "0   1996   200,000.00\n",
      "1   1997    79,000.00\n",
      "2   1999    75,000.00\n",
      "3   2000    78,750.00\n",
      "4   2001    77,600.00\n",
      "5   2002   112,142.86\n",
      "6   2003    74,000.00\n",
      "7   2004   126,384.62\n",
      "8   2005   104,272.73\n",
      "9   2006   217,133.27\n",
      "10  2007   168,170.73\n",
      "11  2008   161,440.61\n",
      "12  2009   222,675.32\n",
      "13  2010   300,274.68\n",
      "14  2011   300,395.13\n",
      "15  2012   367,047.76\n",
      "16  2013   525,584.59\n",
      "17  2014   505,810.53\n",
      "18  2015   546,098.74\n",
      "19  2016   626,603.22\n",
      "20  2017   784,224.26\n",
      "21  2018   921,154.03\n",
      "22  2019 1,074,329.70\n",
      "23  2020   800,685.71\n"
     ]
    }
   ],
   "source": [
    "# 12.Find the average selling price of first-owner cars for each year.\n",
    "query = \"\"\"\n",
    "SELECT year, \n",
    "AVG(sellingprice) FROM cardealer \n",
    "WHERE owner = 'First Owner' \n",
    "GROUP BY year \n",
    "ORDER BY year;\n",
    "\"\"\"\n",
    "df = pd.read_sql(query, engine)\n",
    "print(df)"
   ]
  },
  {
   "cell_type": "code",
   "execution_count": 107,
   "id": "b1ee83bd-db06-47eb-8810-a1ab5f627849",
   "metadata": {},
   "outputs": [
    {
     "name": "stdout",
     "output_type": "stream",
     "text": [
      "                                  name    fuel  sellingprice  price_rank\n",
      "0                Maruti Ertiga VXI CNG     CNG        595000           1\n",
      "1                Maruti Ertiga VXI CNG     CNG        587000           2\n",
      "2                Maruti Ertiga VXI CNG     CNG        525000           3\n",
      "3        Hyundai Santro Magna CNG BSIV     CNG        520000           4\n",
      "4     Maruti Eeco CNG 5 Seater AC BSIV     CNG        495000           5\n",
      "...                                ...     ...           ...         ...\n",
      "4335                Tata Nano Std BSII  Petrol         35000        2118\n",
      "4336                   Tata Nano LX SE  Petrol         35000        2118\n",
      "4337                     Maruti 800 EX  Petrol         30000        2121\n",
      "4338                 Ford Ikon 1.4 ZXi  Petrol         22000        2122\n",
      "4339             Ford Ikon 1.6 ZXI NXt  Petrol         20000        2123\n",
      "\n",
      "[4340 rows x 4 columns]\n"
     ]
    }
   ],
   "source": [
    "# 13.Rank cars by selling price within each fuel type.\n",
    "query = query = \"\"\"\n",
    "SELECT name, fuel, sellingprice,\n",
    "       RANK() OVER (PARTITION BY fuel ORDER BY sellingprice DESC) AS price_rank\n",
    "FROM cardealer\n",
    "ORDER BY fuel, price_rank;\n",
    "\"\"\"\n",
    "\n",
    "df = pd.read_sql(query, engine)\n",
    "print(df)"
   ]
  },
  {
   "cell_type": "code",
   "execution_count": 108,
   "id": "9bd09edb-25f9-47ec-a597-94128f81de04",
   "metadata": {},
   "outputs": [
    {
     "name": "stdout",
     "output_type": "stream",
     "text": [
      "                  owner  total  percentage\n",
      "0           First Owner   2832       65.25\n",
      "1          Second Owner   1106       25.48\n",
      "2           Third Owner    304        7.00\n",
      "3  Fourth & Above Owner     81        1.87\n",
      "4        Test Drive Car     17        0.39\n"
     ]
    }
   ],
   "source": [
    "# 14.Find the percentage distribution of owner types.\n",
    "query = \"\"\"\n",
    "SELECT \n",
    "    owner,\n",
    "    COUNT(*) AS total,\n",
    "    ROUND((COUNT(*) * 100.0 / SUM(COUNT(*)) OVER ()), 2) AS percentage\n",
    "FROM cardealer\n",
    "GROUP BY owner\n",
    "ORDER BY percentage DESC;\n",
    "\"\"\"\n",
    "df = pd.read_sql(query, engine)\n",
    "print(df)"
   ]
  },
  {
   "cell_type": "code",
   "execution_count": 109,
   "id": "33773303-356e-43bc-9cfb-6cebc220eb5e",
   "metadata": {},
   "outputs": [
    {
     "name": "stdout",
     "output_type": "stream",
     "text": [
      "  transmission  total\n",
      "0       Manual   2313\n"
     ]
    }
   ],
   "source": [
    "# 15.Identify the most popular transmission type among cars older than 10 years.\n",
    "query = \"\"\"\n",
    "SELECT transmission, COUNT(*) AS total\n",
    "FROM cardealer\n",
    "WHERE year < 2015\n",
    "GROUP BY transmission\n",
    "ORDER BY total DESC\n",
    "LIMIT 1;\n",
    "\"\"\"\n",
    "df = pd.read_sql(query, engine)\n",
    "print(df)"
   ]
  }
 ],
 "metadata": {
  "kernelspec": {
   "display_name": "Python 3 (ipykernel)",
   "language": "python",
   "name": "python3"
  },
  "language_info": {
   "codemirror_mode": {
    "name": "ipython",
    "version": 3
   },
   "file_extension": ".py",
   "mimetype": "text/x-python",
   "name": "python",
   "nbconvert_exporter": "python",
   "pygments_lexer": "ipython3",
   "version": "3.13.2"
  }
 },
 "nbformat": 4,
 "nbformat_minor": 5
}
